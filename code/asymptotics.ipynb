{
 "cells": [
  {
   "cell_type": "markdown",
   "metadata": {},
   "source": [
    "# Prelude"
   ]
  },
  {
   "cell_type": "code",
   "execution_count": 2,
   "metadata": {},
   "outputs": [],
   "source": [
    "%load_ext autoreload\n",
    "%autoreload 2"
   ]
  },
  {
   "cell_type": "code",
   "execution_count": 3,
   "metadata": {},
   "outputs": [],
   "source": [
    "import numpy as np\n",
    "import matplotlib.pyplot as plt"
   ]
  },
  {
   "cell_type": "code",
   "execution_count": 4,
   "metadata": {},
   "outputs": [],
   "source": [
    "from scipy.interpolate import interp1d\n",
    "from scipy.optimize import newton"
   ]
  },
  {
   "cell_type": "code",
   "execution_count": 5,
   "metadata": {},
   "outputs": [],
   "source": [
    "from rough_heston_smile import calculate_rough_heston_smile\n",
    "from params import params\n",
    "from plotting import plot_variance_smile\n",
    "from utils import lee_right"
   ]
  },
  {
   "cell_type": "code",
   "execution_count": 6,
   "metadata": {},
   "outputs": [],
   "source": [
    "import warnings\n",
    "warnings.filterwarnings('ignore', 'Casting complex values to real discards the imaginary part')"
   ]
  },
  {
   "cell_type": "code",
   "execution_count": 7,
   "metadata": {},
   "outputs": [
    {
     "data": {
      "image/png": "[encoded data removed]",
      "text/plain": [
       "<Figure size 1152x432 with 2 Axes>"
      ]
     },
     "metadata": {
      "needs_background": "light"
     },
     "output_type": "display_data"
    }
   ],
   "source": [
    "fig, (ax1, ax2) = plt.subplots(ncols=2, figsize=(16, 6))"
   ]
  },
  {
   "cell_type": "markdown",
   "metadata": {},
   "source": [
    "# Reconciliation"
   ]
  },
  {
   "cell_type": "markdown",
   "metadata": {},
   "source": [
    "## Heston with FGGS parameters"
   ]
  },
  {
   "cell_type": "code",
   "execution_count": 8,
   "metadata": {},
   "outputs": [],
   "source": [
    "from heston_smile import calculate_heston_smile\n",
    "from models.heston import heston_implied_variance_asymptotic, heston_critical_moment, heston_fourier_dampened_call\n",
    "from models.black_scholes import bs_implied_vol"
   ]
  },
  {
   "cell_type": "code",
   "execution_count": 9,
   "metadata": {},
   "outputs": [],
   "source": [
    "ps = {\n",
    "    'ALPHA': 1,\n",
    "    'V0': 0.0654,\n",
    "    'VBAR': 0.0707,\n",
    "    'LAMBDA': 0.6067,\n",
    "    'XI': 0.2928,\n",
    "    'RHO': -0.7571,\n",
    "    'SPOT': 1,\n",
    "    'RATE': 0,\n",
    "}"
   ]
  },
  {
   "cell_type": "code",
   "execution_count": 10,
   "metadata": {},
   "outputs": [],
   "source": [
    "ttm = 1\n",
    "log_strikes = 0.5 + 1.5 * np.linspace(0, 1, 14 * 2)"
   ]
  },
  {
   "cell_type": "code",
   "execution_count": 11,
   "metadata": {},
   "outputs": [],
   "source": [
    "calculate_heston_smile(ttm, log_strikes, ps)"
   ]
  },
  {
   "cell_type": "code",
   "execution_count": 12,
   "metadata": {},
   "outputs": [],
   "source": [
    "critical_moment = heston_critical_moment(ttm, ps, x0=20)"
   ]
  },
  {
   "cell_type": "code",
   "execution_count": 13,
   "metadata": {},
   "outputs": [
    {
     "name": "stdout",
     "output_type": "stream",
     "text": [
      "b1: 0.12556945056175878; b2: 0.021814964275936082; b3: 0.0004956570893223367\n",
      "b1: 0.12556945056175878; b2: 0.021814964275936082; b3: 0.0004956570893223367\n",
      "b1: 0.12556945056175878; b2: 0.021814964275936082; b3: 0.0004956570893223367\n",
      "b1: 0.12556945056175878; b2: 0.021814964275936082; b3: 0.0004956570893223367\n",
      "b1: 0.12556945056175878; b2: 0.021814964275936082; b3: 0.0004956570893223367\n",
      "b1: 0.12556945056175878; b2: 0.021814964275936082; b3: 0.0004956570893223367\n",
      "b1: 0.12556945056175878; b2: 0.021814964275936082; b3: 0.0004956570893223367\n",
      "b1: 0.12556945056175878; b2: 0.021814964275936082; b3: 0.0004956570893223367\n",
      "b1: 0.12556945056175878; b2: 0.021814964275936082; b3: 0.0004956570893223367\n",
      "b1: 0.12556945056175878; b2: 0.021814964275936082; b3: 0.0004956570893223367\n",
      "b1: 0.12556945056175878; b2: 0.021814964275936082; b3: 0.0004956570893223367\n",
      "b1: 0.12556945056175878; b2: 0.021814964275936082; b3: 0.0004956570893223367\n",
      "b1: 0.12556945056175878; b2: 0.021814964275936082; b3: 0.0004956570893223367\n",
      "b1: 0.12556945056175878; b2: 0.021814964275936082; b3: 0.0004956570893223367\n",
      "b1: 0.12556945056175878; b2: 0.021814964275936082; b3: 0.0004956570893223367\n",
      "b1: 0.12556945056175878; b2: 0.021814964275936082; b3: 0.0004956570893223367\n",
      "b1: 0.12556945056175878; b2: 0.021814964275936082; b3: 0.0004956570893223367\n",
      "b1: 0.12556945056175878; b2: 0.021814964275936082; b3: 0.0004956570893223367\n",
      "b1: 0.12556945056175878; b2: 0.021814964275936082; b3: 0.0004956570893223367\n",
      "b1: 0.12556945056175878; b2: 0.021814964275936082; b3: 0.0004956570893223367\n",
      "b1: 0.12556945056175878; b2: 0.021814964275936082; b3: 0.0004956570893223367\n",
      "b1: 0.12556945056175878; b2: 0.021814964275936082; b3: 0.0004956570893223367\n",
      "b1: 0.12556945056175878; b2: 0.021814964275936082; b3: 0.0004956570893223367\n",
      "b1: 0.12556945056175878; b2: 0.021814964275936082; b3: 0.0004956570893223367\n",
      "b1: 0.12556945056175878; b2: 0.021814964275936082; b3: 0.0004956570893223367\n",
      "b1: 0.12556945056175878; b2: 0.021814964275936082; b3: 0.0004956570893223367\n",
      "b1: 0.12556945056175878; b2: 0.021814964275936082; b3: 0.0004956570893223367\n",
      "b1: 0.12556945056175878; b2: 0.021814964275936082; b3: 0.0004956570893223367\n"
     ]
    },
    {
     "name": "stderr",
     "output_type": "stream",
     "text": [
      "/Users/konstantinisstarovoitovs/projects/master/code/models/heston.py:193: RuntimeWarning: invalid value encountered in sqrt\n",
      "  x1 = np.sqrt(b**2 + 2 * b * c * ps['RHO'] * s_plus + c**2 * s_plus * (1 - (1 - ps['RHO']**2) * s_plus))\n"
     ]
    },
    {
     "data": {
      "text/plain": [
       "Text(0.5, 1, 'Classical Heston')"
      ]
     },
     "execution_count": 13,
     "metadata": {},
     "output_type": "execute_result"
    }
   ],
   "source": [
    "plot_variance_smile(ax1, r\"_output/smiles/heston.smile\")\n",
    "\n",
    "ax1.plot(log_strikes, lee_right(ttm, critical_moment) * log_strikes, linestyle='dashed', label=\"Lee Asymptotic\")\n",
    "\n",
    "ys2 = [heston_implied_variance_asymptotic(ttm, log_strike, ps) for log_strike in log_strikes]\n",
    "ax1.plot(log_strikes, ys2, linestyle='dashed', label=\"3rd order asymptotic\")\n",
    "\n",
    "ax1.legend(frameon=False)\n",
    "ax1.set_title(\"Classical Heston\")"
   ]
  },
  {
   "cell_type": "markdown",
   "metadata": {},
   "source": [
    "## Rough Heston reconciliation"
   ]
  },
  {
   "cell_type": "code",
   "execution_count": 14,
   "metadata": {},
   "outputs": [],
   "source": [
    "from models.rough_heston import rough_heston_cf_adams, rough_heston_implied_variance_asymptotic"
   ]
  },
  {
   "cell_type": "code",
   "execution_count": 15,
   "metadata": {},
   "outputs": [],
   "source": [
    "ps = {\n",
    "    'ALPHA': 0.99,\n",
    "    'V0': 0.0654,\n",
    "    'VBAR': 0.0707,\n",
    "    'LAMBDA': 0.6067,\n",
    "    'XI': 0.2928,\n",
    "    'RHO': -0.7571,\n",
    "    'SPOT': 1,\n",
    "    'RATE': 0,\n",
    "}"
   ]
  },
  {
   "cell_type": "code",
   "execution_count": 16,
   "metadata": {},
   "outputs": [
    {
     "name": "stdout",
     "output_type": "stream",
     "text": [
      "31.0\n",
      "31.1\n",
      "31.200000000000003\n",
      "31.300000000000004\n",
      "31.400000000000006\n",
      "31.500000000000007\n",
      "31.60000000000001\n",
      "31.70000000000001\n",
      "31.80000000000001\n",
      "31.900000000000013\n"
     ]
    }
   ],
   "source": [
    "ttm = 1.2\n",
    "n = 500\n",
    "\n",
    "us = np.arange(31, 32, 0.1)\n",
    "cts = []\n",
    "\n",
    "for u in us:\n",
    "    print(u)\n",
    "    ys3 = rough_heston_cf_adams(-1j * u, ttm, ps, n, entire=True).real\n",
    "    cts += [ttm * len(ys3) / n]"
   ]
  },
  {
   "cell_type": "code",
   "execution_count": 17,
   "metadata": {},
   "outputs": [
    {
     "name": "stdout",
     "output_type": "stream",
     "text": [
      "31.416666666666675\n"
     ]
    }
   ],
   "source": [
    "critical_time = interp1d(us, cts)\n",
    "critical_moment = newton(lambda x: critical_time(x) - 1, 31.5)\n",
    "\n",
    "print(critical_moment)"
   ]
  },
  {
   "cell_type": "code",
   "execution_count": 18,
   "metadata": {},
   "outputs": [],
   "source": [
    "critical_moment = 31.416666666666675"
   ]
  },
  {
   "cell_type": "code",
   "execution_count": 19,
   "metadata": {},
   "outputs": [
    {
     "data": {
      "image/png": "[encoded data removed]",
      "text/plain": [
       "<Figure size 432x288 with 1 Axes>"
      ]
     },
     "metadata": {
      "needs_background": "light"
     },
     "output_type": "display_data"
    }
   ],
   "source": [
    "plt.plot(us, cts)\n",
    "plt.show()"
   ]
  },
  {
   "cell_type": "code",
   "execution_count": 20,
   "metadata": {},
   "outputs": [],
   "source": [
    "ttm = 1\n",
    "log_strikes = 0.5 + 1.5 * np.linspace(0, 1, 14)"
   ]
  },
  {
   "cell_type": "code",
   "execution_count": 21,
   "metadata": {},
   "outputs": [
    {
     "name": "stdout",
     "output_type": "stream",
     "text": [
      "Pricing for Log-strike: 0.6153846153846154\n",
      "Pricing for Log-strike: 0.7307692307692308\n",
      "Pricing for Log-strike: 0.5\n",
      "Pricing for Log-strike: 0.8461538461538461\n",
      "Pricing for Log-strike: 0.9615384615384616\n",
      "Pricing for Log-strike: 1.1923076923076923\n",
      "Pricing for Log-strike: 1.307692307692308\n",
      "Pricing for Log-strike: 1.076923076923077\n",
      "Pricing for Log-strike: 1.4230769230769231\n",
      "Pricing for Log-strike: 1.5384615384615383\n",
      "Pricing for Log-strike: 1.7692307692307694\n",
      "Pricing for Log-strike: 1.8846153846153846\n",
      "Pricing for Log-strike: 2.0\n",
      "Pricing for Log-strike: 1.653846153846154\n",
      "Log-strike: 1.1923076923076923; Price: 2.5461054757301405e-11; IV: 0.19478825276563608\n",
      "Log-strike: 1.076923076923077; Price: 4.232614587891231e-10; IV: 0.1904371730696713\n",
      "Log-strike: 0.5; Price: 0.00020654071804599388; IV: 0.1815889560092094\n",
      "Log-strike: 0.8461538461538461; Price: 9.87482254659081e-08; IV: 0.18256112387559745\n",
      "Log-strike: 0.6153846153846154; Price: 1.764203113771366e-05; IV: 0.1786613180687023\n",
      "Log-strike: 1.653846153846154; Price: 2.0361106361260947e-16; IV: 0.2123421026710829\n",
      "Log-strike: 1.5384615384615383; Price: 4.095778408085348e-15; IV: 0.20801359035733727\n",
      "Log-strike: 1.7692307692307694; Price: 9.781496091813597e-18; IV: 0.21662082275623848\n",
      "Log-strike: 1.8846153846153846; Price: 4.6009804138603555e-19; IV: 0.22087147864353826\n",
      "Log-strike: 0.7307692307692308; Price: 1.3711630439291608e-06; IV: 0.17971159322894836\n",
      "Log-strike: 1.307692307692308; Price: 1.4537990850901813e-12; IV: 0.1992100990121392\n",
      "Log-strike: 2.0; Price: 2.159457778477378e-20; IV: 0.22512950844817875\n",
      "Log-strike: 0.9615384615384616; Price: 6.659352741898609e-09; IV: 0.18628428968572172\n",
      "Log-strike: 1.4230769230769231; Price: 7.898923582219392e-14; IV: 0.20363124071294228\n"
     ]
    }
   ],
   "source": [
    "calculate_rough_heston_smile(ttm, log_strikes, ps)"
   ]
  },
  {
   "cell_type": "code",
   "execution_count": 22,
   "metadata": {},
   "outputs": [
    {
     "name": "stdout",
     "output_type": "stream",
     "text": [
      "b1: 0.12717532919768323; b2: 0.02302493357400585; b3: -0.0010233119689266035\n",
      "b1: 0.12717532919768323; b2: 0.02302493357400585; b3: -0.0010233119689266035\n",
      "b1: 0.12717532919768323; b2: 0.02302493357400585; b3: -0.0010233119689266035\n",
      "b1: 0.12717532919768323; b2: 0.02302493357400585; b3: -0.0010233119689266035\n",
      "b1: 0.12717532919768323; b2: 0.02302493357400585; b3: -0.0010233119689266035\n",
      "b1: 0.12717532919768323; b2: 0.02302493357400585; b3: -0.0010233119689266035\n",
      "b1: 0.12717532919768323; b2: 0.02302493357400585; b3: -0.0010233119689266035\n",
      "b1: 0.12717532919768323; b2: 0.02302493357400585; b3: -0.0010233119689266035\n",
      "b1: 0.12717532919768323; b2: 0.02302493357400585; b3: -0.0010233119689266035\n",
      "b1: 0.12717532919768323; b2: 0.02302493357400585; b3: -0.0010233119689266035\n",
      "b1: 0.12717532919768323; b2: 0.02302493357400585; b3: -0.0010233119689266035\n",
      "b1: 0.12717532919768323; b2: 0.02302493357400585; b3: -0.0010233119689266035\n",
      "b1: 0.12717532919768323; b2: 0.02302493357400585; b3: -0.0010233119689266035\n",
      "b1: 0.12717532919768323; b2: 0.02302493357400585; b3: -0.0010233119689266035\n"
     ]
    },
    {
     "data": {
      "text/plain": [
       "Text(0.5, 1, 'Rough Heston $\\\\alpha=0.99$')"
      ]
     },
     "execution_count": 22,
     "metadata": {},
     "output_type": "execute_result"
    }
   ],
   "source": [
    "plot_variance_smile(ax2, r\"_output/smiles/rough_heston__0.99.smile\")\n",
    "\n",
    "ys2 = [rough_heston_implied_variance_asymptotic(ttm, log_strike, ps, critical_time=critical_time, critical_moment=critical_moment)\n",
    "       for log_strike in log_strikes]\n",
    "\n",
    "ax2.plot(log_strikes, lee_right(ttm, critical_moment) * log_strikes, linestyle='dashed', label=\"1st order Asymptotic\")\n",
    "ax2.plot(log_strikes, ys2, linestyle='dashed', label=\"3rd order asymptotic\")\n",
    "\n",
    "ax2.legend(frameon=False)\n",
    "ax2.set_title(r\"Rough Heston $\\alpha=0.99$\")"
   ]
  },
  {
   "cell_type": "code",
   "execution_count": 23,
   "metadata": {},
   "outputs": [],
   "source": [
    "fig.savefig(r\"_output/reconciliation.pdf\", bbox_inches = 'tight')"
   ]
  },
  {
   "cell_type": "markdown",
   "metadata": {},
   "source": [
    "# Rough Heston FGGS 0.75"
   ]
  },
  {
   "cell_type": "code",
   "execution_count": 24,
   "metadata": {},
   "outputs": [],
   "source": [
    "ps = {\n",
    "    'ALPHA': 0.75,\n",
    "    'V0': 0.0654,\n",
    "    'VBAR': 0.0707,\n",
    "    'LAMBDA': 0.6067,\n",
    "    'XI': 0.2928,\n",
    "    'RHO': -0.7571,\n",
    "    'SPOT': 1,\n",
    "    'RATE': 0,\n",
    "}"
   ]
  },
  {
   "cell_type": "code",
   "execution_count": 25,
   "metadata": {},
   "outputs": [
    {
     "name": "stdout",
     "output_type": "stream",
     "text": [
      "27.0\n",
      "27.1\n",
      "27.200000000000003\n",
      "27.300000000000004\n",
      "27.400000000000006\n",
      "27.500000000000007\n",
      "27.60000000000001\n",
      "27.70000000000001\n",
      "27.80000000000001\n",
      "27.900000000000013\n"
     ]
    }
   ],
   "source": [
    "ttm = 1.2\n",
    "n = 500\n",
    "\n",
    "us = np.arange(27, 28, 0.1)\n",
    "cts = []\n",
    "\n",
    "for u in us:\n",
    "    print(u)\n",
    "    ys3 = rough_heston_cf_adams(-1j * u, ttm, ps, n, entire=True).real\n",
    "    cts += [ttm * len(ys3) / n]"
   ]
  },
  {
   "cell_type": "code",
   "execution_count": 26,
   "metadata": {},
   "outputs": [
    {
     "name": "stdout",
     "output_type": "stream",
     "text": [
      "27.377777777777787\n"
     ]
    }
   ],
   "source": [
    "critical_time = interp1d(us, cts)\n",
    "critical_moment = newton(lambda x: critical_time(x) - 1, 27.5)\n",
    "\n",
    "print(critical_moment)"
   ]
  },
  {
   "cell_type": "code",
   "execution_count": 27,
   "metadata": {},
   "outputs": [],
   "source": [
    "critical_moment = 27.377777777777787"
   ]
  },
  {
   "cell_type": "code",
   "execution_count": 28,
   "metadata": {},
   "outputs": [
    {
     "data": {
      "image/png": "[encoded data removed]",
      "text/plain": [
       "<Figure size 432x288 with 1 Axes>"
      ]
     },
     "metadata": {
      "needs_background": "light"
     },
     "output_type": "display_data"
    }
   ],
   "source": [
    "plt.plot(us, cts)\n",
    "plt.show()"
   ]
  },
  {
   "cell_type": "code",
   "execution_count": 29,
   "metadata": {},
   "outputs": [],
   "source": [
    "ttm = 1\n",
    "log_strikes = 1 + 3 * np.linspace(0, 1, 14)"
   ]
  },
  {
   "cell_type": "code",
   "execution_count": 30,
   "metadata": {},
   "outputs": [
    {
     "name": "stdout",
     "output_type": "stream",
     "text": [
      "Pricing for Log-strike: 1.4615384615384617\n",
      "Pricing for Log-strike: 1.0\n",
      "Pricing for Log-strike: 1.2307692307692308\n",
      "Pricing for Log-strike: 1.9230769230769231\n",
      "Pricing for Log-strike: 1.6923076923076923\n",
      "Pricing for Log-strike: 2.153846153846154\n",
      "Pricing for Log-strike: 2.3846153846153846\n",
      "Pricing for Log-strike: 2.615384615384616\n",
      "Pricing for Log-strike: 2.8461538461538463\n",
      "Pricing for Log-strike: 3.0769230769230766\n",
      "Pricing for Log-strike: 3.5384615384615388\n",
      "Pricing for Log-strike: 3.307692307692308\n",
      "Pricing for Log-strike: 3.769230769230769\n",
      "Pricing for Log-strike: 4.0\n",
      "Log-strike: 3.5384615384615388; Price: 7.336302146468444e-30; IV: 0.31793282787894256\n",
      "Log-strike: 3.0769230769230766; Price: 4.560107516256719e-25; IV: 0.305203962381759\n",
      "Log-strike: 2.615384615384616; Price: 2.4009783721856827e-20; IV: 0.29273909114983426\n",
      "Log-strike: 4.0; Price: 1.0437965498940774e-34; IV: 0.3305912083104979\n",
      "Log-strike: 2.8461538461538463; Price: 1.0724330440564282e-22; IV: 0.29890563133428005\n",
      "Log-strike: 3.307692307692308; Price: 1.8613876876543982e-27; IV: 0.3115625348192038\n",
      "Log-strike: 3.769230769230769; Price: 2.804343845047117e-32; IV: 0.3242825655176553\n",
      "Log-strike: 1.4615384615384617; Price: 3.443509897576245e-09; IV: 0.2711851202700657\n",
      "Log-strike: 1.9230769230769231; Price: 1.7344902890093853e-13; IV: 0.2764608926786174\n",
      "Log-strike: 1.2307692307692308; Price: 3.3694023290992005e-07; IV: 0.27311074029961313\n",
      "Log-strike: 2.3846153846153846; Price: 5.055824541096254e-18; IV: 0.2868117943313903\n",
      "Log-strike: 1.0; Price: 1.9644123816957345e-05; IV: 0.27958749447425585\n",
      "Log-strike: 1.6923076923076923; Price: 2.676264545296699e-11; IV: 0.2728019326169699\n",
      "Log-strike: 2.153846153846154; Price: 9.847617504941647e-16; IV: 0.2812925569981963\n"
     ]
    }
   ],
   "source": [
    "calculate_rough_heston_smile(ttm, log_strikes, ps, damp=24.)"
   ]
  },
  {
   "cell_type": "code",
   "execution_count": 31,
   "metadata": {},
   "outputs": [
    {
     "name": "stdout",
     "output_type": "stream",
     "text": [
      "b1: 0.13639772029160543; b2: 0.02099262118264226; b3: -0.0010574203758192584\n",
      "b1: 0.13639772029160543; b2: 0.02099262118264226; b3: -0.0010574203758192584\n",
      "b1: 0.13639772029160543; b2: 0.02099262118264226; b3: -0.0010574203758192584\n",
      "b1: 0.13639772029160543; b2: 0.02099262118264226; b3: -0.0010574203758192584\n",
      "b1: 0.13639772029160543; b2: 0.02099262118264226; b3: -0.0010574203758192584\n",
      "b1: 0.13639772029160543; b2: 0.02099262118264226; b3: -0.0010574203758192584\n",
      "b1: 0.13639772029160543; b2: 0.02099262118264226; b3: -0.0010574203758192584\n",
      "b1: 0.13639772029160543; b2: 0.02099262118264226; b3: -0.0010574203758192584\n",
      "b1: 0.13639772029160543; b2: 0.02099262118264226; b3: -0.0010574203758192584\n",
      "b1: 0.13639772029160543; b2: 0.02099262118264226; b3: -0.0010574203758192584\n",
      "b1: 0.13639772029160543; b2: 0.02099262118264226; b3: -0.0010574203758192584\n",
      "b1: 0.13639772029160543; b2: 0.02099262118264226; b3: -0.0010574203758192584\n",
      "b1: 0.13639772029160543; b2: 0.02099262118264226; b3: -0.0010574203758192584\n",
      "b1: 0.13639772029160543; b2: 0.02099262118264226; b3: -0.0010574203758192584\n"
     ]
    },
    {
     "data": {
      "image/png": "[encoded data removed]",
      "text/plain": [
       "<Figure size 432x288 with 1 Axes>"
      ]
     },
     "metadata": {
      "needs_background": "light"
     },
     "output_type": "display_data"
    }
   ],
   "source": [
    "fig, ax = plt.subplots()\n",
    "\n",
    "plot_variance_smile(ax, r\"_output/smiles/rough_heston__0.75.smile\")\n",
    "\n",
    "ys2 = [rough_heston_implied_variance_asymptotic(ttm, log_strike, ps, critical_time=critical_time, critical_moment=critical_moment)\n",
    "       for log_strike in log_strikes]\n",
    "\n",
    "ax.plot(log_strikes, lee_right(ttm, critical_moment) * log_strikes, linestyle='dashed', label=\"1st order Asymptotic\")\n",
    "ax.plot(log_strikes, ys2, linestyle='dashed', label=\"3rd order asymptotic\")\n",
    "\n",
    "ax.legend(frameon=False)\n",
    "ax.set_title(r\"Rough Heston $\\alpha = 0.75$\")\n",
    "\n",
    "fig.savefig(\"_output/asymptotic.pdf\", bbox_inches = 'tight')"
   ]
  }
 ],
 "metadata": {
  "kernelspec": {
   "display_name": "Python 3",
   "language": "python",
   "name": "python3"
  },
  "language_info": {
   "codemirror_mode": {
    "name": "ipython",
    "version": 3
   },
   "file_extension": ".py",
   "mimetype": "text/x-python",
   "name": "python",
   "nbconvert_exporter": "python",
   "pygments_lexer": "ipython3",
   "version": "3.7.1"
  }
 },
 "nbformat": 4,
 "nbformat_minor": 4
}
