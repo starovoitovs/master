{
 "cells": [
  {
   "cell_type": "markdown",
   "metadata": {},
   "source": [
    "# Explosion time"
   ]
  },
  {
   "cell_type": "code",
   "execution_count": 5,
   "metadata": {},
   "outputs": [],
   "source": [
    "import numpy as np\n",
    "from scipy.special import gamma, digamma, betainc\n",
    "import matplotlib.pyplot as plt\n",
    "\n",
    "%matplotlib inline"
   ]
  },
  {
   "cell_type": "code",
   "execution_count": 6,
   "metadata": {},
   "outputs": [],
   "source": [
    "# params from original paper\n",
    "\n",
    "# speed of mean reversion\n",
    "l = 2\n",
    "\n",
    "# mean reversion level\n",
    "theta = 0.1\n",
    "\n",
    "# vvol\n",
    "xi = 0.2\n",
    "\n",
    "# roughness, H + 1/2\n",
    "alpha = 0.6\n",
    "\n",
    "# correlation\n",
    "rho = -0.8\n",
    "\n",
    "# base variance\n",
    "v0 = 0.25\n",
    "\n",
    "# mean rev level variance\n",
    "vbar = 0.2"
   ]
  },
  {
   "cell_type": "code",
   "execution_count": 7,
   "metadata": {},
   "outputs": [],
   "source": [
    "# # params from el euch / rosenbaum to compare\n",
    "\n",
    "# # speed of mean reversion\n",
    "# l = 1\n",
    "\n",
    "# # mean reversion level\n",
    "# theta = 0.1\n",
    "\n",
    "# # vvol\n",
    "# xi = 1\n",
    "\n",
    "# # roughness, H + 1/2\n",
    "# alpha = 0.75\n",
    "\n",
    "# # correlation\n",
    "# rho = 0.1\n",
    "\n",
    "# # base variance\n",
    "# v0 = 0.25"
   ]
  },
  {
   "cell_type": "code",
   "execution_count": 10,
   "metadata": {},
   "outputs": [],
   "source": [
    "c1 = lambda s: s * (s - 1) / 2\n",
    "c2 = lambda s: rho * xi * s - l\n",
    "c3 = xi ** 2 / 2\n",
    "\n",
    "d1 = lambda u: c1(u) * c3\n",
    "d2 = lambda u: c2(u)\n",
    "\n",
    "\n",
    "def explosion_time(u, n):\n",
    "    \n",
    "    assert c1(u) > 0\n",
    "    assert c2(u) / 2 >= 0\n",
    "    \n",
    "    v = lambda n: gamma(alpha * n + 1) / gamma(alpha * n - alpha + 1)\n",
    "\n",
    "    a = np.array([d1(u) / v(1)])\n",
    "\n",
    "    for i in range(1, n):\n",
    "        an = (d2(u) * a[-1] + np.sum(a[:-1] * np.flip(a[:-1]))) / v(i + 1)\n",
    "        a = np.append(a, [an])\n",
    "\n",
    "    # case A, left-hand side\n",
    "    if u < l / xi / rho:\n",
    "        return (a[-1] * (n ** (1 - alpha)) * (gamma(alpha) ** 2) / (alpha ** alpha) / gamma(2 * alpha)) ** (\n",
    "                -1 / alpha / (n + 1))\n",
    "    \n",
    "    # case B, right-hand side, get lower bound\n",
    "    else:\n",
    "        return np.abs(a[-1]) ** (-1 / alpha / n)\n",
    "\n",
    "\n",
    "x = np.linspace(-16, -6, 51)\n",
    "y = [explosion_time(v, 100) for v in x]\n",
    "\n",
    "plt.plot(x, y)\n",
    "plt.show()"
   ]
  },
  {
   "cell_type": "code",
   "execution_count": 78,
   "metadata": {},
   "outputs": [
    {
     "name": "stderr",
     "output_type": "stream",
     "text": [
      "/Users/konstantinisstarovoitovs/projects/master/venv/lib/python3.7/site-packages/ipykernel_launcher.py:25: RuntimeWarning: divide by zero encountered in double_scalars\n"
     ]
    },
    {
     "data": {
      "image/png": "[encoded data removed]",
      "text/plain": [
       "<Figure size 432x288 with 1 Axes>"
      ]
     },
     "metadata": {
      "needs_background": "light"
     },
     "output_type": "display_data"
    }
   ],
   "source": [
    "x = np.arange(1, 6, .2)\n",
    "y = [explosion_time(v, 100) for v in x]\n",
    "\n",
    "plt.plot(x, y)\n",
    "plt.show()"
   ]
  },
  {
   "cell_type": "markdown",
   "metadata": {},
   "source": [
    "# Fractional Riccati"
   ]
  },
  {
   "cell_type": "code",
   "execution_count": 137,
   "metadata": {},
   "outputs": [],
   "source": [
    "# solver from El Euch, Rosenbaum\n",
    "\n",
    "class CriticalValueError(Exception):\n",
    "\n",
    "    def __init__(self, x, y, critical):\n",
    "        self.x = x\n",
    "        self.y = y\n",
    "        self.critical = critical\n",
    "\n",
    "\n",
    "class FRiccati:\n",
    "\n",
    "    def __init__(self):\n",
    "        self.delta = 0\n",
    "        self.n = 0\n",
    "        self.a = np.zeros(())\n",
    "        self.b = np.zeros(())\n",
    "\n",
    "    def _update_mat_a(self):\n",
    "        \n",
    "        self.a = np.zeros((self.n + 2, self.n + 2))\n",
    "\n",
    "        for k in range(0, self.n + 1):\n",
    "            for j in range(0, k + 2):\n",
    "                if j == 0:\n",
    "                    self.a[j, k + 1] = self.delta ** alpha / gamma(alpha + 2) * (\n",
    "                            k ** (alpha + 1) - (k - alpha) * ((k + 1) ** alpha))\n",
    "                elif j == k:\n",
    "                    self.a[j, k + 1] = self.delta ** alpha / gamma(alpha + 2)\n",
    "                else:\n",
    "                    self.a[j, k + 1] = self.delta ** alpha / gamma(alpha + 2) * (\n",
    "                            (k - j + 2) ** (alpha + 1) + (k - j) ** (alpha + 1) - 2 * (k - j + 1) ** (alpha + 1))\n",
    "              \n",
    "    def _update_mat_b(self):\n",
    "\n",
    "        self.b = np.zeros((self.n + 2, self.n + 2))\n",
    "        \n",
    "        for k in range(0, self.n + 1):\n",
    "            for j in range(0, k + 1):\n",
    "                self.b[j, k + 1] = self.delta ** alpha / gamma(alpha + 1) * ((k - j + 1) ** alpha - (k - j) ** alpha)\n",
    "\n",
    "    def _solve(self, p, t0, t1, n):\n",
    "\n",
    "        @np.vectorize\n",
    "        def _f(x):\n",
    "            return (p ** 2 - p) / 2 + (p * rho * xi - l) * x + (xi ** 2) / 2 * (x ** 2)\n",
    "\n",
    "        _delta = (t1 - t0) / n\n",
    "\n",
    "        if _delta != self.delta or n != self.n:\n",
    "            self.delta = _delta\n",
    "            self.n = n\n",
    "\n",
    "            # update matrices\n",
    "            self._update_mat_a()\n",
    "            self._update_mat_b()\n",
    "\n",
    "        _h = np.array([0])\n",
    "        _k = 1\n",
    "        _t = np.linspace(t0, t1, self.n + 1)\n",
    "\n",
    "        while _k < self.n + 1:\n",
    "            hp = np.sum(self.b[0:_k, _k] * _f(_h[0:_k]))\n",
    "            val = np.sum(self.a[0:_k, _k] * _f(_h[0:_k])) + self.a[_k, _k] * _f(hp)\n",
    "            if val > 1e2:\n",
    "                raise CriticalValueError(_t[0:_k], _h, _t[_k])\n",
    "            _h = np.append(_h, val)\n",
    "            _k += 1\n",
    "\n",
    "        return _t, _h\n",
    "\n",
    "    def critical_time(self, p, t0=0., t1=.5, n=1000):\n",
    "\n",
    "        try:\n",
    "            self._solve(p, t0, t1, n)\n",
    "        except CriticalValueError as err:\n",
    "            return err.critical\n",
    "\n",
    "        return None\n",
    "\n",
    "    def solve(self, p, t0=0., t1=1., n=1000):\n",
    "\n",
    "        try:\n",
    "            return self._solve(p, t0, t1, n)\n",
    "        except CriticalValueError as err:\n",
    "            return err.x, err.y\n",
    "\n",
    "solver = FRiccati()"
   ]
  },
  {
   "cell_type": "code",
   "execution_count": 138,
   "metadata": {},
   "outputs": [
    {
     "name": "stderr",
     "output_type": "stream",
     "text": [
      "/Users/konstantinisstarovoitovs/projects/master/venv/lib/python3.7/site-packages/ipykernel_launcher.py:32: ComplexWarning: Casting complex values to real discards the imaginary part\n"
     ]
    },
    {
     "data": {
      "image/png": "[encoded data removed]",
      "text/plain": [
       "<Figure size 1440x720 with 1 Axes>"
      ]
     },
     "metadata": {
      "needs_background": "light"
     },
     "output_type": "display_data"
    }
   ],
   "source": [
    "fig, ax = plt.subplots(nrows=1, ncols=1, figsize=(20, 10))\n",
    "\n",
    "s = 2\n",
    "\n",
    "x, y = solver.solve(s, t1=2)\n",
    "ax.plot(x, y)\n",
    "\n",
    "# criticals\n",
    "cs = np.append(cs, x[-1])"
   ]
  },
  {
   "cell_type": "markdown",
   "metadata": {},
   "source": [
    "# Constants"
   ]
  },
  {
   "cell_type": "code",
   "execution_count": 103,
   "metadata": {},
   "outputs": [
    {
     "name": "stdout",
     "output_type": "stream",
     "text": [
      "1.0945423995781196\n"
     ]
    }
   ],
   "source": [
    "# fix explosion time and critical moment\n",
    "s = 2\n",
    "T = explosion_time(s, 100)\n",
    "\n",
    "print(T)"
   ]
  },
  {
   "cell_type": "code",
   "execution_count": 104,
   "metadata": {
    "scrolled": true
   },
   "outputs": [],
   "source": [
    "theta0 = gamma(2 * alpha) / gamma(alpha) * 2 / xi ** 2\n",
    "theta1 = digamma(alpha) / gamma(alpha) * (rho * xi * s - l) / (gamma(alpha) / gamma(2 * alpha) - xi ** 2)"
   ]
  },
  {
   "cell_type": "code",
   "execution_count": 139,
   "metadata": {},
   "outputs": [],
   "source": [
    "lambda0 = v0 * theta0 / gamma(1 - alpha) * (-1) * (-1) ** (2 * alpha) * betainc(2 * alpha - 1, 1 - alpha, -1)\n",
    "lambda1 = v0 * theta0 / gamma(1 - alpha) * (T ** (1 - 2 * alpha) / (1 - 2 * alpha)) + vbar * l * theta0 * T ** (1 - alpha)"
   ]
  }
 ],
 "metadata": {
  "kernelspec": {
   "display_name": "Python 3",
   "language": "python",
   "name": "python3"
  },
  "language_info": {
   "codemirror_mode": {
    "name": "ipython",
    "version": 3
   },
   "file_extension": ".py",
   "mimetype": "text/x-python",
   "name": "python",
   "nbconvert_exporter": "python",
   "pygments_lexer": "ipython3",
   "version": "3.7.3"
  }
 },
 "nbformat": 4,
 "nbformat_minor": 2
}
